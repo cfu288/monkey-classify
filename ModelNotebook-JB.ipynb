{
 "cells": [
  {
   "cell_type": "code",
   "execution_count": 1,
   "metadata": {},
   "outputs": [],
   "source": [
    "# Hypothesis: smaller kernel sizes will lead to higher accuracies of classification in fined-tuned image classification\n",
    "# We think this is likely due to the ability of the CNN to detect smaller features between relatively similar images of the same species\n",
    "# Independent Variables: kernel size\n",
    "# Constant Variables: number of layers, types of layers, input shape, epoches, hyperparamaters(depth,padding)\n",
    "# Dependent Variables: Accuracy\n",
    "# Limitations: we are foregoing pure accuracy for experimental reasons - we could get higher accuracy if we tried but we're keeping\n",
    "# things constant for consistancy between models\n",
    "# Currently only using Input, Convolutional, Relu, Pool, and FC/Dense layers. Can add Dense and Dropout if we have time\n",
    "# Reference to www.cs231n.github.io/convolutional-networks"
   ]
  },
  {
   "cell_type": "code",
   "execution_count": 2,
   "metadata": {},
   "outputs": [
    {
     "name": "stderr",
     "output_type": "stream",
     "text": [
      "/home/cfu288/.local/lib/python3.6/site-packages/h5py/__init__.py:36: FutureWarning: Conversion of the second argument of issubdtype from `float` to `np.floating` is deprecated. In future, it will be treated as `np.float64 == np.dtype(float).type`.\n",
      "  from ._conv import register_converters as _register_converters\n",
      "Using TensorFlow backend.\n"
     ]
    }
   ],
   "source": [
    "# 3. Import libraries and modules\n",
    "import os, cv2, argparse\n",
    "import numpy as np\n",
    "import pandas as pd\n",
    "import matplotlib.pylab as plt\n",
    "from keras.models import Sequential, load_model\n",
    "from keras.layers import Dense, Dropout, Activation, Flatten, Conv2D, MaxPooling2D\n",
    "from keras.utils import np_utils\n",
    "from keras.applications.xception import Xception\n",
    "from keras.applications.xception import preprocess_input\n",
    "from keras.preprocessing.image import ImageDataGenerator\n",
    "from numpy.random import RandomState\n",
    "np.random.seed(123)  # for reproducibility\n",
    "import sys\n",
    "import random"
   ]
  },
  {
   "cell_type": "code",
   "execution_count": 3,
   "metadata": {},
   "outputs": [],
   "source": [
    "# INPUT\n",
    "TRAIN_DIR = './training/'\n",
    "TEST_DIR = './validation/'\n",
    "EPOCHS = 10\n",
    "HEIGHT = 150\n",
    "WIDTH = 150"
   ]
  },
  {
   "cell_type": "code",
   "execution_count": 4,
   "metadata": {
    "scrolled": false
   },
   "outputs": [
    {
     "data": {
      "image/png": "[encoded data removed]",
      "text/plain": [
       "<Figure size 432x288 with 1 Axes>"
      ]
     },
     "metadata": {},
     "output_type": "display_data"
    },
    {
     "data": {
      "text/html": [
       "<div>\n",
       "<style scoped>\n",
       "    .dataframe tbody tr th:only-of-type {\n",
       "        vertical-align: middle;\n",
       "    }\n",
       "\n",
       "    .dataframe tbody tr th {\n",
       "        vertical-align: top;\n",
       "    }\n",
       "\n",
       "    .dataframe thead th {\n",
       "        text-align: right;\n",
       "    }\n",
       "</style>\n",
       "<table border=\"1\" class=\"dataframe\">\n",
       "  <thead>\n",
       "    <tr style=\"text-align: right;\">\n",
       "      <th></th>\n",
       "      <th>Label</th>\n",
       "      <th>Latin Name</th>\n",
       "      <th>Common Name</th>\n",
       "      <th>Train Images</th>\n",
       "      <th>Validation Images</th>\n",
       "    </tr>\n",
       "  </thead>\n",
       "  <tbody>\n",
       "    <tr>\n",
       "      <th>0</th>\n",
       "      <td>n0</td>\n",
       "      <td>alouatta_palliata</td>\n",
       "      <td>mantled_howler</td>\n",
       "      <td>105</td>\n",
       "      <td>26</td>\n",
       "    </tr>\n",
       "    <tr>\n",
       "      <th>1</th>\n",
       "      <td>n1</td>\n",
       "      <td>erythrocebus_patas</td>\n",
       "      <td>patas_monkey</td>\n",
       "      <td>111</td>\n",
       "      <td>28</td>\n",
       "    </tr>\n",
       "    <tr>\n",
       "      <th>2</th>\n",
       "      <td>n2</td>\n",
       "      <td>cacajao_calvus</td>\n",
       "      <td>bald_uakari</td>\n",
       "      <td>110</td>\n",
       "      <td>27</td>\n",
       "    </tr>\n",
       "    <tr>\n",
       "      <th>3</th>\n",
       "      <td>n3</td>\n",
       "      <td>macaca_fuscata</td>\n",
       "      <td>japanese_macaque</td>\n",
       "      <td>122</td>\n",
       "      <td>30</td>\n",
       "    </tr>\n",
       "    <tr>\n",
       "      <th>4</th>\n",
       "      <td>n4</td>\n",
       "      <td>cebuella_pygmea</td>\n",
       "      <td>pygmy_marmoset</td>\n",
       "      <td>105</td>\n",
       "      <td>26</td>\n",
       "    </tr>\n",
       "    <tr>\n",
       "      <th>5</th>\n",
       "      <td>n5</td>\n",
       "      <td>cebus_capucinus</td>\n",
       "      <td>white_headed_capuchin</td>\n",
       "      <td>113</td>\n",
       "      <td>28</td>\n",
       "    </tr>\n",
       "    <tr>\n",
       "      <th>6</th>\n",
       "      <td>n6</td>\n",
       "      <td>mico_argentatus</td>\n",
       "      <td>silvery_marmoset</td>\n",
       "      <td>106</td>\n",
       "      <td>26</td>\n",
       "    </tr>\n",
       "    <tr>\n",
       "      <th>7</th>\n",
       "      <td>n7</td>\n",
       "      <td>saimiri_sciureus</td>\n",
       "      <td>common_squirrel_monkey</td>\n",
       "      <td>114</td>\n",
       "      <td>28</td>\n",
       "    </tr>\n",
       "    <tr>\n",
       "      <th>8</th>\n",
       "      <td>n8</td>\n",
       "      <td>aotus_nigriceps</td>\n",
       "      <td>black_headed_night_monkey</td>\n",
       "      <td>106</td>\n",
       "      <td>27</td>\n",
       "    </tr>\n",
       "    <tr>\n",
       "      <th>9</th>\n",
       "      <td>n9</td>\n",
       "      <td>trachypithecus_johnii</td>\n",
       "      <td>nilgiri_langur</td>\n",
       "      <td>105</td>\n",
       "      <td>26</td>\n",
       "    </tr>\n",
       "  </tbody>\n",
       "</table>\n",
       "</div>"
      ],
      "text/plain": [
       "   Label               Latin Name                      Common Name  \\\n",
       "0  n0          alouatta_palliata    mantled_howler                   \n",
       "1  n1         erythrocebus_patas    patas_monkey                     \n",
       "2  n2         cacajao_calvus        bald_uakari                      \n",
       "3  n3         macaca_fuscata        japanese_macaque                 \n",
       "4  n4        cebuella_pygmea        pygmy_marmoset                   \n",
       "5  n5        cebus_capucinus        white_headed_capuchin            \n",
       "6  n6        mico_argentatus        silvery_marmoset                 \n",
       "7  n7       saimiri_sciureus        common_squirrel_monkey           \n",
       "8  n8        aotus_nigriceps        black_headed_night_monkey        \n",
       "9  n9      trachypithecus_johnii    nilgiri_langur                   \n",
       "\n",
       "   Train Images  Validation Images  \n",
       "0           105                 26  \n",
       "1           111                 28  \n",
       "2           110                 27  \n",
       "3           122                 30  \n",
       "4           105                 26  \n",
       "5           113                 28  \n",
       "6           106                 26  \n",
       "7           114                 28  \n",
       "8           106                 27  \n",
       "9           105                 26  "
      ]
     },
     "execution_count": 4,
     "metadata": {},
     "output_type": "execute_result"
    }
   ],
   "source": [
    "# # Setup, Read in images, Preprocess images for training\n",
    "TRAIN_IMG, TRAIN_CLS, TEST_IMG, TEST_CLS = ([] for i in range(4))\n",
    "COLS = ['Label', 'Latin Name', 'Common Name', 'Train Images', 'Validation Images']\n",
    "LABELS = pd.read_csv('./monkey_labels.txt', names=COLS, skiprows=1)\n",
    "CLASSES = [x for x in range(0, len(LABELS))]\n",
    "\n",
    "# print(len(TRAIN_IMG))\n",
    "titles = LABELS.iloc[:,2].tolist()\n",
    "for x in range(len(titles)):\n",
    "    titles[x] = titles[x].strip()\n",
    "y_pos = np.arange(len(titles))\n",
    "vals = LABELS.iloc[:,3].tolist()\n",
    "\n",
    "plt.bar(y_pos, vals, align='center', alpha=0.5)\n",
    "plt.xticks(y_pos, titles, rotation=45, ha='right')\n",
    "plt.ylabel(\"Number of images\")\n",
    "plt.title(\"Image Distribution\")\n",
    "plt.show()\n",
    "LABELS"
   ]
  },
  {
   "cell_type": "code",
   "execution_count": 5,
   "metadata": {},
   "outputs": [
    {
     "name": "stdout",
     "output_type": "stream",
     "text": [
      "Found 1097 images belonging to 10 classes.\n",
      "(150, 150, 3)\n",
      "Found 272 images belonging to 10 classes.\n",
      "{'n0': 0, 'n1': 1, 'n2': 2, 'n3': 3, 'n4': 4, 'n5': 5, 'n6': 6, 'n7': 7, 'n8': 8, 'n9': 9}\n"
     ]
    }
   ],
   "source": [
    "TRAIN_DATAGEN = ImageDataGenerator(rescale=1./255,\n",
    "                                   rotation_range=25, \n",
    "                                   horizontal_flip=True, \n",
    "                                   zoom_range=0.1, \n",
    "                                   width_shift_range=0.2, \n",
    "                                   height_shift_range=0.2,\n",
    "                                   fill_mode='nearest'\n",
    "                                  )\n",
    "\n",
    "TEST_DATAGEN = ImageDataGenerator(rescale=1./255)\n",
    "\n",
    "TRAIN_GENERATOR = TRAIN_DATAGEN.flow_from_directory(\n",
    "        TRAIN_DIR,  # this is the target directory\n",
    "        target_size=(150, 150),  # all images will be resized to 150x150\n",
    "        batch_size=32,\n",
    "        class_mode='categorical')\n",
    "print(TRAIN_GENERATOR.image_shape)\n",
    "\n",
    "TEST_GENERATOR = TEST_DATAGEN.flow_from_directory(\n",
    "        TEST_DIR,  # this is the target directory\n",
    "        target_size=(150, 150),  # all images will be resized to 150x150\n",
    "        batch_size=32,\n",
    "        class_mode='categorical')\n",
    "\n",
    "print(TEST_GENERATOR.class_indices)"
   ]
  },
  {
   "cell_type": "code",
   "execution_count": 6,
   "metadata": {},
   "outputs": [
    {
     "name": "stdout",
     "output_type": "stream",
     "text": [
      "_________________________________________________________________\n",
      "Layer (type)                 Output Shape              Param #   \n",
      "=================================================================\n",
      "xception (Model)             (None, 5, 5, 2048)        20861480  \n",
      "_________________________________________________________________\n",
      "flatten_1 (Flatten)          (None, 51200)             0         \n",
      "_________________________________________________________________\n",
      "dense_1 (Dense)              (None, 512)               26214912  \n",
      "_________________________________________________________________\n",
      "dropout_1 (Dropout)          (None, 512)               0         \n",
      "_________________________________________________________________\n",
      "dense_2 (Dense)              (None, 10)                5130      \n",
      "=================================================================\n",
      "Total params: 47,081,522\n",
      "Trainable params: 26,220,042\n",
      "Non-trainable params: 20,861,480\n",
      "_________________________________________________________________\n",
      "Epoch 1/10\n",
      "34/34 [==============================] - 127s 4s/step - loss: 9.5824 - acc: 0.2354\n",
      "Epoch 2/10\n",
      "34/34 [==============================] - 108s 3s/step - loss: 6.9384 - acc: 0.4184\n",
      "Epoch 3/10\n",
      "34/34 [==============================] - 107s 3s/step - loss: 5.0521 - acc: 0.5085\n",
      "Epoch 4/10\n",
      "34/34 [==============================] - 110s 3s/step - loss: 3.0696 - acc: 0.5689\n",
      "Epoch 5/10\n",
      "34/34 [==============================] - 105s 3s/step - loss: 1.5557 - acc: 0.5838\n",
      "Epoch 6/10\n",
      "34/34 [==============================] - 107s 3s/step - loss: 1.2676 - acc: 0.6248\n",
      "Epoch 7/10\n",
      "34/34 [==============================] - 108s 3s/step - loss: 1.2433 - acc: 0.6372\n",
      "Epoch 8/10\n",
      "34/34 [==============================] - 107s 3s/step - loss: 1.2474 - acc: 0.6313\n",
      "Epoch 9/10\n",
      "34/34 [==============================] - 108s 3s/step - loss: 1.2240 - acc: 0.6432\n",
      "Epoch 10/10\n",
      "34/34 [==============================] - 106s 3s/step - loss: 1.1048 - acc: 0.6699\n"
     ]
    }
   ],
   "source": [
    "base_model = Xception(include_top=False, weights='imagenet', input_shape=(150, 150, 3))\n",
    "\n",
    "# Freeze the layers \n",
    "for layer in base_model.layers:\n",
    "    layer.trainable = False\n",
    "\n",
    "# Add custom model at the end\n",
    "model = Sequential()\n",
    "model.add(base_model)\n",
    "model.add(Flatten())\n",
    "model.add(Dense(512, activation='relu', input_dim=5*5*2048))\n",
    "model.add(Dropout(0.5))\n",
    "model.add(Dense(10, activation='softmax'))\n",
    "\n",
    "# Print the layers in the model\n",
    "model.summary()\n",
    "\n",
    "model.compile(loss='categorical_crossentropy', optimizer='adam', metrics=['accuracy'])\n",
    "\n",
    "# Number of samples processed per epoch is steps_per_epoch * batch_size\n",
    "history = model.fit_generator(TRAIN_GENERATOR, steps_per_epoch=34, epochs=EPOCHS, verbose=1, shuffle=True)"
   ]
  },
  {
   "cell_type": "code",
   "execution_count": 7,
   "metadata": {},
   "outputs": [
    {
     "name": "stdout",
     "output_type": "stream",
     "text": [
      "SAVE MODEL\n",
      "dict_keys(['loss', 'acc'])\n"
     ]
    }
   ],
   "source": [
    "# Save the model\n",
    "print(\"SAVE MODEL\")\n",
    "model.save('models/xception-150x150-40e-generator.h5')\n",
    "print(history.history.keys())"
   ]
  },
  {
   "cell_type": "code",
   "execution_count": 11,
   "metadata": {},
   "outputs": [
    {
     "data": {
      "image/png": "[encoded data removed]",
      "text/plain": [
       "<Figure size 432x288 with 1 Axes>"
      ]
     },
     "metadata": {},
     "output_type": "display_data"
    }
   ],
   "source": [
    "# Print a plot of loss and accuracy over epochs\n",
    "#val_acc = history.history['val_acc']\n",
    "train_acc = history.history['acc']\n",
    "loss = history.history['loss']\n",
    "#val_loss = history.history['val_loss']\n",
    "epochs = range(len(history.history['acc']))\n",
    "\n",
    "plt.title('Accuracy vs loss')\n",
    "plt.plot(epochs, loss, 'red', label='Loss')\n",
    "plt.plot(epochs, train_acc, 'blue', label='Training Accuracy')\n",
    "plt.legend()\n",
    "\n",
    "# plt.figure()\n",
    "# plt.title('Training and validation loss')\n",
    "# plt.plot(epochs, loss, 'red', label='Training loss')\n",
    "# plt.plot(epochs, val_loss, 'blue', label='Validation loss')\n",
    "\n",
    "plt.legend()\n",
    "\n",
    "plt.show()\n",
    "\n"
   ]
  },
  {
   "cell_type": "code",
   "execution_count": 12,
   "metadata": {},
   "outputs": [
    {
     "name": "stdout",
     "output_type": "stream",
     "text": [
      "Loss:  1.1501798682353075  Accuracy:  0.8602941176470589\n"
     ]
    },
    {
     "data": {
      "text/plain": [
       "array([[8.95023341e-25, 4.46064183e-30, 1.14780764e-26, ...,\n",
       "        9.44729359e-21, 1.74164740e-32, 1.47712371e-26],\n",
       "       [4.14239781e-10, 7.84118326e-10, 5.93793938e-12, ...,\n",
       "        2.23049647e-13, 4.33866835e-15, 1.00000000e+00],\n",
       "       [1.48884591e-14, 2.03170098e-12, 1.33049572e-14, ...,\n",
       "        1.00000000e+00, 2.70566880e-09, 1.47392708e-18],\n",
       "       ...,\n",
       "       [2.71021850e-06, 9.31966743e-12, 8.61173501e-17, ...,\n",
       "        1.98821516e-16, 1.42611160e-14, 9.99997258e-01],\n",
       "       [0.00000000e+00, 1.68136125e-15, 1.91887821e-08, ...,\n",
       "        7.47330622e-22, 1.06523594e-26, 7.08768475e-30],\n",
       "       [4.35802760e-03, 1.19205266e-02, 3.66242148e-06, ...,\n",
       "        3.36098462e-01, 4.89088207e-01, 9.90075222e-09]], dtype=float32)"
      ]
     },
     "execution_count": 12,
     "metadata": {},
     "output_type": "execute_result"
    }
   ],
   "source": [
    "#model = load_model('test_model.h5')\n",
    "\n",
    "# Evaluate the model on the validation data\n",
    "loss, acc = model.evaluate_generator(TEST_GENERATOR, 272/32)\n",
    "print(\"Loss: \", loss, \" Accuracy: \", acc)\n",
    "\n",
    "preds = model.predict_generator(TEST_GENERATOR, 272/32)\n",
    "preds"
   ]
  },
  {
   "cell_type": "code",
   "execution_count": null,
   "metadata": {},
   "outputs": [],
   "source": []
  }
 ],
 "metadata": {
  "kernelspec": {
   "display_name": "Python 3",
   "language": "python",
   "name": "python3"
  },
  "language_info": {
   "codemirror_mode": {
    "name": "ipython",
    "version": 3
   },
   "file_extension": ".py",
   "mimetype": "text/x-python",
   "name": "python",
   "nbconvert_exporter": "python",
   "pygments_lexer": "ipython3",
   "version": "3.6.3"
  }
 },
 "nbformat": 4,
 "nbformat_minor": 2
}
