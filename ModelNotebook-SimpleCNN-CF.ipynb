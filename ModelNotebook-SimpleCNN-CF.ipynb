{
 "cells": [
  {
   "cell_type": "code",
   "execution_count": 1,
   "metadata": {},
   "outputs": [],
   "source": [
    "# Hypothesis: smaller kernel sizes will lead to higher accuracies of classification in fined-tuned image classification\n",
    "# We think this is likely due to the ability of the CNN to detect smaller features between relatively similar images of the same species\n",
    "# Independent Variables: kernel size\n",
    "# Constant Variables: number of layers, types of layers, input shape, epoches, hyperparamaters(depth,padding)\n",
    "# Dependent Variables: Accuracy\n",
    "# Limitations: we are foregoing pure accuracy for experimental reasons - we could get higher accuracy if we tried but we're keeping\n",
    "# things constant for consistancy between models\n",
    "# Currently only using Input, Convolutional, Relu, Pool, and FC/Dense layers. Can add Dense and Dropout if we have time\n",
    "# Reference to www.cs231n.github.io/convolutional-networks"
   ]
  },
  {
   "cell_type": "code",
   "execution_count": 2,
   "metadata": {},
   "outputs": [
    {
     "name": "stderr",
     "output_type": "stream",
     "text": [
      "/home/cfu288/.local/lib/python3.6/site-packages/h5py/__init__.py:36: FutureWarning: Conversion of the second argument of issubdtype from `float` to `np.floating` is deprecated. In future, it will be treated as `np.float64 == np.dtype(float).type`.\n",
      "  from ._conv import register_converters as _register_converters\n",
      "Using TensorFlow backend.\n"
     ]
    }
   ],
   "source": [
    "# 3. Import libraries and modules\n",
    "import os, cv2, argparse\n",
    "import numpy as np\n",
    "import pandas as pd\n",
    "import matplotlib.pylab as plt\n",
    "from matplotlib import pyplot\n",
    "from keras.preprocessing.image import ImageDataGenerator\n",
    "from keras.models import Sequential, load_model\n",
    "from keras.layers import Dense, Dropout, Activation, Flatten, Conv2D, MaxPooling2D\n",
    "from keras.utils import np_utils\n",
    "from numpy.random import RandomState\n",
    "np.random.seed(123)  # for reproducibility\n",
    "import sys\n",
    "import random"
   ]
  },
  {
   "cell_type": "code",
   "execution_count": 3,
   "metadata": {},
   "outputs": [],
   "source": [
    "def shuffle_data(arr1, arr2):\n",
    "    seed = random.randint(0, 1000)\n",
    "    ran = RandomState(seed)\n",
    "    ran.shuffle(arr1)\n",
    "    ran = RandomState(seed)\n",
    "    ran.shuffle(arr2)"
   ]
  },
  {
   "cell_type": "code",
   "execution_count": 4,
   "metadata": {},
   "outputs": [],
   "source": [
    "# INPUT\n",
    "TRAIN_DIR = './training/'\n",
    "TEST_DIR = './validation/'\n",
    "EPOCHS = 10"
   ]
  },
  {
   "cell_type": "code",
   "execution_count": 5,
   "metadata": {},
   "outputs": [
    {
     "name": "stdout",
     "output_type": "stream",
     "text": [
      "READING IN AND FORMATTING IMAGES\n",
      "empty file\n",
      "COMPLETE\n"
     ]
    }
   ],
   "source": [
    "# Setup, Read in images, Preprocess images for training\n",
    "TRAIN_IMG, TRAIN_CLS, TEST_IMG, TEST_CLS = ([] for i in range(4))\n",
    "COLS = ['Label', 'Latin Name', 'Common Name', 'Train Images', 'Validation Images']\n",
    "LABELS = pd.read_csv('./monkey_labels.txt', names=COLS, skiprows=1)\n",
    "CLASSES = [x for x in range(0, len(LABELS))]\n",
    "\n",
    "# read in all images\n",
    "# resizing the images to 100x100 to make training faster\n",
    "print(\"READING IN AND FORMATTING IMAGES\")\n",
    "for x in range(0, len(LABELS)):\n",
    "    train_dir = TRAIN_DIR + LABELS.loc[x,'Label'].strip() + '/'\n",
    "    test_dir = TEST_DIR + LABELS.loc[x,'Label'].strip() + '/'\n",
    "    for file in os.listdir(train_dir):\n",
    "        if not file.endswith('jpg'):\n",
    "            print(\"empty file\")\n",
    "            continue\n",
    "        img = cv2.imread(train_dir + file)\n",
    "        if img is not None:\n",
    "            img = cv2.resize(img, (100, 100))\n",
    "            TRAIN_IMG.append(img)\n",
    "            TRAIN_CLS.append(x)\n",
    "    for file in os.listdir(test_dir):\n",
    "        img = cv2.imread(test_dir + file)\n",
    "        if img is not None:\n",
    "            img = cv2.resize(img, (100, 100))\n",
    "            TEST_IMG.append(img)\n",
    "            TEST_CLS.append(x)\n",
    "print(\"COMPLETE\")"
   ]
  },
  {
   "cell_type": "code",
   "execution_count": 6,
   "metadata": {},
   "outputs": [],
   "source": [
    "# convert to numpy arrays\n",
    "TRAIN_IMG = np.array(TRAIN_IMG)\n",
    "TEST_IMG = np.array(TEST_IMG)\n",
    "TRAIN_CLS = np.array(TRAIN_CLS)\n",
    "TEST_CLS = np.array(TEST_CLS)\n",
    "\n",
    "# Preprocess images\n",
    "# Reshape them to theanos format (channels, hight, width) # changed to tensorflow\n",
    "# Convert to 0-255 to value in [0-1]\n",
    "# TRAIN_IMG = TRAIN_IMG.reshape(TRAIN_IMG.shape[0], 3, 100, 100)\n",
    "# TEST_IMG = TEST_IMG.reshape(TEST_IMG.shape[0], 3, 100, 100)\n",
    "TRAIN_IMG = TRAIN_IMG.astype('float32')\n",
    "TEST_IMG = TEST_IMG.astype('float32')\n",
    "TRAIN_IMG /= 255\n",
    "TEST_IMG /= 255\n",
    "\n",
    "# Reshape class labels\n",
    "TRAIN_CLS = np_utils.to_categorical(TRAIN_CLS, 10)\n",
    "TEST_CLS = np_utils.to_categorical(TEST_CLS, 10)\n",
    "\n",
    "# Shuffle the data\n",
    "shuffle_data(TRAIN_IMG, TRAIN_CLS)\n",
    "shuffle_data(TEST_IMG, TEST_CLS)"
   ]
  },
  {
   "cell_type": "code",
   "execution_count": 7,
   "metadata": {},
   "outputs": [],
   "source": [
    "#Inc training data through image aug\n",
    "shift = 0.2\n",
    "#datagen = ImageDataGenerator()\n",
    "# datagen = ImageDataGenerator(rotation_range=90)\n",
    "# #datagen = ImageDataGenerator(width_shift_range=shift, height_shift_range=shift)\n",
    "# #datagen = ImageDataGenerator(featurewise_center=True, featurewise_std_normalization=True)\n",
    "# # fit parameters from data\n",
    "# datagen.fit(TRAIN_IMG)\n",
    "# # https://machinelearningmastery.com/image-augmentation-deep-learning-keras/\n",
    "\n",
    "# for X_batch, y_batch in datagen.flow(TRAIN_IMG, TRAIN_CLS, batch_size=9):\n",
    "#     # create a grid of 3x3 images\n",
    "#     for i in range(0, 9):\n",
    "#         pyplot.subplot(330 + 1 + i)\n",
    "#         pyplot.imshow(X_batch[i].reshape(100, 100, 3), cmap=pyplot.get_cmap('gray'))\n",
    "#     # show the plot\n",
    "#     pyplot.show()\n",
    "#     break"
   ]
  },
  {
   "cell_type": "code",
   "execution_count": 8,
   "metadata": {},
   "outputs": [],
   "source": [
    "# Alternate Model - Simple\n",
    "\n",
    "# Trying to use the simplest CNN possible - From here we can mess with the kernel and see if kernel size helps \n",
    "# with fine tuned classification\n",
    "# Hypothesis: smaller kernel sizes will lead to higher accuracies of classification in fined-tuned image classification\n",
    "# Independent Variables: kernel size\n",
    "# Constant Variables: number of layers, types of layers, input shape, epoches\n",
    "# Dependent Variables: Accuracy\n",
    "# Limitations: we are foregoing pure accuracy for experimental reasons - we could get higher accuracy if we tried but we're keeping\n",
    "# things constant for consistancy between models\n",
    "# Currently only using Input, Convolutional, Relu, Pool, and FC/Dense layers. Can add Dropout(overfitting) if we have time\n",
    "# Reference to www.cs231n.github.io/convolutional-networks\n",
    "# Building a CNN generally requires 4 major steps: Convolution, Pooling, Flattening, Full Connection\n",
    "test_kernel = (3,3)\n",
    "num_filters = 110\n",
    "input_shape=(100,100,3)\n",
    "\n",
    "simple_model = Sequential()\n",
    "# INPUT LAYER - Hold raw pixel values of an image, width 100, height 100, and with 3 color channels\n",
    "# CONVOLUTIONAL LAYER - Compute the output of neurons connected to local regions in the input, each computing the dot \n",
    "#   product vetween their weights and a small region (decided by filter) they are connected to in the input volume\n",
    "simple_model.add(Conv2D(num_filters, test_kernel, input_shape=input_shape))\n",
    "# RELU LAYER - Apply an elemntwise activation function, max(0,x). Leaves the size of the volume unchanged, used to normalize output. Can be added a paramater to the previous layer but seperated for clarity\n",
    "simple_model.add(Activation('relu'))\n",
    "# POOL LAYER - Perform a downsampling operation along the psatial dimentions (width, height) resulting in a smaller volume\n",
    "simple_model.add(MaxPooling2D(pool_size=(2,2)))\n",
    "simple_model.add(Flatten()) # Converts and connects multi-dimentional convolutional layer into a 1D feature vector to be used for final classification\n",
    "# FULLY CONNECTED LAYER - Compute class scores, resulting in a volume size of [1x1x10], where each of the 10 numbers represents a class\n",
    "simple_model.add(Dense(10, activation='softmax'))"
   ]
  },
  {
   "cell_type": "code",
   "execution_count": 9,
   "metadata": {},
   "outputs": [],
   "source": [
    "# Compile MINIST model\n",
    "# print(\"COMPILING MINIST MODEL\")\n",
    "# # Adam - Modified Gradient Decent - learning rate changes as it nears\n",
    "# model.compile(loss='categorical_crossentropy', optimizer='adam', metrics=['accuracy'])"
   ]
  },
  {
   "cell_type": "code",
   "execution_count": 10,
   "metadata": {},
   "outputs": [
    {
     "name": "stdout",
     "output_type": "stream",
     "text": [
      "COMPILING SIMPLE MODEL\n",
      "DONE COMPILING MODEL\n"
     ]
    }
   ],
   "source": [
    "# Compile SIMPLE model\n",
    "print(\"COMPILING SIMPLE MODEL\")\n",
    "# Adam - Modified Gradient Decent - learning rate changes as it nears\n",
    "simple_model.compile(loss='categorical_crossentropy', optimizer='adam', metrics=['accuracy'])\n",
    "print(\"DONE COMPILING MODEL\")"
   ]
  },
  {
   "cell_type": "code",
   "execution_count": 11,
   "metadata": {},
   "outputs": [],
   "source": [
    "# Train the model on the training data\n",
    "# print(\"TRAINING FOR {} EPOCHS\".format(EPOCHS)) \n",
    "# history = model.fit(TRAIN_IMG, TRAIN_CLS, batch_size=32, epochs=EPOCHS, verbose=1, validation_split=0.2, shuffle=True)"
   ]
  },
  {
   "cell_type": "code",
   "execution_count": 12,
   "metadata": {},
   "outputs": [
    {
     "name": "stdout",
     "output_type": "stream",
     "text": [
      "TRAINING SIMPLE MODEL FOR 10 EPOCHS using (3, 3) kernel size\n",
      "Train on 987 samples, validate on 110 samples\n",
      "Epoch 1/10\n",
      "987/987 [==============================] - 11s 12ms/step - loss: 6.3970 - acc: 0.1459 - val_loss: 2.2265 - val_acc: 0.1727\n",
      "Epoch 2/10\n",
      "987/987 [==============================] - 11s 12ms/step - loss: 1.9287 - acc: 0.3242 - val_loss: 1.6933 - val_acc: 0.4000\n",
      "Epoch 3/10\n",
      "987/987 [==============================] - 11s 12ms/step - loss: 1.1277 - acc: 0.6424 - val_loss: 1.2945 - val_acc: 0.5455\n",
      "Epoch 4/10\n",
      "987/987 [==============================] - 12s 12ms/step - loss: 0.5759 - acc: 0.8693 - val_loss: 1.1055 - val_acc: 0.6545\n",
      "Epoch 5/10\n",
      "987/987 [==============================] - 12s 12ms/step - loss: 0.2847 - acc: 0.9564 - val_loss: 1.0498 - val_acc: 0.6364\n",
      "Epoch 6/10\n",
      "987/987 [==============================] - 12s 12ms/step - loss: 0.1439 - acc: 0.9828 - val_loss: 1.1499 - val_acc: 0.6364\n",
      "Epoch 7/10\n",
      "987/987 [==============================] - 11s 12ms/step - loss: 0.0713 - acc: 0.9959 - val_loss: 1.1091 - val_acc: 0.6273\n",
      "Epoch 8/10\n",
      "987/987 [==============================] - 12s 12ms/step - loss: 0.0386 - acc: 1.0000 - val_loss: 1.0795 - val_acc: 0.6455\n",
      "Epoch 9/10\n",
      "987/987 [==============================] - 12s 12ms/step - loss: 0.0229 - acc: 1.0000 - val_loss: 1.0613 - val_acc: 0.6545\n",
      "Epoch 10/10\n",
      "987/987 [==============================] - 12s 12ms/step - loss: 0.0131 - acc: 1.0000 - val_loss: 1.1007 - val_acc: 0.6636\n"
     ]
    }
   ],
   "source": [
    "# Train SIMPLE model on the training data\n",
    "# Note: Probably overfitting this model, hit 100% on training before 10 iterations\n",
    "print(\"TRAINING SIMPLE MODEL FOR {} EPOCHS using {} kernel size\".format(EPOCHS, test_kernel)) \n",
    "history = simple_model.fit(TRAIN_IMG, TRAIN_CLS, batch_size=32, epochs=EPOCHS, verbose=1, validation_split=0.1, shuffle=True)"
   ]
  },
  {
   "cell_type": "code",
   "execution_count": 13,
   "metadata": {},
   "outputs": [],
   "source": [
    "# Save the model\n",
    "# print(\"SAVE MODEL\")\n",
    "# model.save('test_model.h5')\n",
    "# print(history.history.keys())"
   ]
  },
  {
   "cell_type": "code",
   "execution_count": 14,
   "metadata": {},
   "outputs": [
    {
     "data": {
      "image/png": "[encoded data removed]",
      "text/plain": [
       "<Figure size 432x288 with 1 Axes>"
      ]
     },
     "metadata": {},
     "output_type": "display_data"
    },
    {
     "data": {
      "image/png": "[encoded data removed]",
      "text/plain": [
       "<Figure size 432x288 with 1 Axes>"
      ]
     },
     "metadata": {},
     "output_type": "display_data"
    }
   ],
   "source": [
    "# TODO - Print a plot of loss and accuracy over epochs and learning rates\n",
    "# TODO - Print a plot of loss and accuracy over epochs and learning rates\n",
    "acc = history.history['acc']\n",
    "val_acc = history.history['val_acc']\n",
    "loss = history.history['loss']\n",
    "val_loss = history.history['val_loss']\n",
    "epochs = range(1, len(acc) + 1)\n",
    "\n",
    "plt.title('Training and validation accuracy')\n",
    "plt.plot(epochs, acc, 'red', label='Training accuracy')\n",
    "plt.plot(epochs, val_acc, 'blue', label='Validation accuracy')\n",
    "plt.legend()\n",
    "\n",
    "plt.figure()\n",
    "plt.title('Training and validation loss')\n",
    "plt.plot(epochs, loss, 'red', label='Training loss')\n",
    "plt.plot(epochs, val_loss, 'blue', label='Validation loss')\n",
    "\n",
    "plt.legend()\n",
    "\n",
    "plt.show()"
   ]
  },
  {
   "cell_type": "code",
   "execution_count": 15,
   "metadata": {},
   "outputs": [
    {
     "name": "stdout",
     "output_type": "stream",
     "text": [
      "dict_keys(['val_loss', 'val_acc', 'loss', 'acc'])\n",
      "272/272 [==============================] - 1s 3ms/step\n",
      "Loss:  1.1892122871735518  Accuracy:  0.6470588235294118\n"
     ]
    }
   ],
   "source": [
    "# Save and Evaluate the SIMPLE model on the validation data\n",
    "#print(\"SAVE SIMPLE MODEL\")\n",
    "#simple_model.save('models/simple_model.h5')\n",
    "print(history.history.keys())\n",
    "loss, acc = simple_model.evaluate(TEST_IMG, TEST_CLS, verbose=1)\n",
    "print(\"Loss: \", loss, \" Accuracy: \", acc)"
   ]
  },
  {
   "cell_type": "code",
   "execution_count": 16,
   "metadata": {},
   "outputs": [],
   "source": [
    "# # Append results to the end of a text file\n",
    "# with open(\"results_simple_cnn.txt\", 'a') as f:\n",
    "#     f.write('{{ \"accuracy\":{}, \"epochs\":{}, \"kernel\":\"{}\", \"num_filters\":{}, \"input_shape\":\"{}\" }} \\n'.format(\n",
    "#         acc, EPOCHS, test_kernel, num_filters, input_shape))"
   ]
  }
 ],
 "metadata": {
  "kernelspec": {
   "display_name": "Python 3",
   "language": "python",
   "name": "python3"
  },
  "language_info": {
   "codemirror_mode": {
    "name": "ipython",
    "version": 3
   },
   "file_extension": ".py",
   "mimetype": "text/x-python",
   "name": "python",
   "nbconvert_exporter": "python",
   "pygments_lexer": "ipython3",
   "version": "3.6.3"
  }
 },
 "nbformat": 4,
 "nbformat_minor": 2
}
